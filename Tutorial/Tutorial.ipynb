{
 "cells": [
  {
   "cell_type": "markdown",
   "metadata": {},
   "source": [
    "# Finance Tutorial\n",
    "\n",
    "Welcome to **finance** tutorial. From the github __[readme](https://github.com/peppermatt94/finance)__ you already know all about the setup and commands of **finance**. In this notebook we will see more specific example of usage. This notebook is thought with a __[powershell kernell](https://github.com/vors/jupyter-powershell)__ . Powershell must have also __[conda initialized framework](https://stackoverflow.com/questions/64149680/how-to-activate-conda-environment-from-powershell)__ .\n",
    "\n",
    "## Period selection\n",
    "**finance** hasn't a command for period selection. When one downloads the stocks of a company, it downloads the entire information about the history of the company. One can be interested in more precise period of company and train a simulation from that more precise period. The idea is to integrate **finance** with the shell instrument in a script way.\n",
    "\n",
    "Let's suppose we want to select the period novemeber 2018 - june 2019 of Tesla Motors. The following script provide a way to get this result."
   ]
  },
  {
   "cell_type": "code",
   "execution_count": 2,
   "metadata": {},
   "outputs": [
    {
     "name": "stdout",
     "output_type": "stream",
     "text": [
      ".                                                                                                    Loading financial data from yahoo finance.                                                                                                    Store file in Tesla_stocks.csv.                                                                                                    done. {\n",
      ">> finance --company TSLA --output Tesla_stocks.csv\n",
      ">> $start"
     ]
    }
   ],
   "source": [
    "finance --company TSLA --output Tesla_stocks.csv\n",
    "$start = (Get-Content \"Tesla_stocks.csv\" | Select-String \"2018-11\").LineNumber\n",
    "$end = (Get-Content \"Tesla_stocks.csv\" | Select-String \"2019-06\").LineNumber\n",
    "$columns_title_line=@(0)\n",
    "$interesting_index = $columns_title_line + $start[0]..$end[-1]\n",
    "Get-Content \"Tesla_stocks.csv\" | Select-Object -Index $interesting_index |set-content \"Tesla_selected_stocks.csv\""
   ]
  },
  {
   "cell_type": "markdown",
   "metadata": {},
   "source": [
    "In the first line, we only created the file __Tesla_stocks.csv__ with tesla stocks. Then we select the rows with powershell tools in order to get what we want, and store the line numbers in the variables  *start* and *end*. Finally, we created new file with restricted period. Then, you can use the new data to train new simulation.\n",
    "\n",
    "## Simulation comparison\n",
    "\n",
    "An usefull thing could be to compare different simulation. In order to do this one must use finance for create different output from different simulation and then plot all the simulated data. Let's take into account the 'SunPower Corporation' company, 100 day simulation of pricing motion, with all the three simulation:"
   ]
  },
  {
   "cell_type": "code",
   "execution_count": null,
   "metadata": {},
   "outputs": [],
   "source": [
    "finance --company SPWR --output BM_simulation.csv ito --BM 100\n",
    "finance --company SPWR --output GBM_simulation.csv ito --GBM 100\n",
    "finance --company SPWR --output Levy_simulation.csv ito --levy 100"
   ]
  },
  {
   "cell_type": "markdown",
   "metadata": {},
   "source": [
    "Once the three files are created, one can compare it with usefull graphics program like GnuPlot, R, Python or mathlab. "
   ]
  }
 ],
 "metadata": {
  "kernelspec": {
   "display_name": "PowerShell",
   "language": "powershell",
   "name": "powershell"
  },
  "language_info": {
   "codemirror_mode": "shell",
   "file_extension": ".ps1",
   "mimetype": "text/x-sh",
   "name": "powershell"
  }
 },
 "nbformat": 4,
 "nbformat_minor": 4
}
